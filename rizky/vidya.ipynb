{
 "cells": [
  {
   "cell_type": "code",
   "execution_count": 1,
   "metadata": {},
   "outputs": [],
   "source": [
    "#%matplotlib notebook"
   ]
  },
  {
   "cell_type": "code",
   "execution_count": 2,
   "metadata": {},
   "outputs": [],
   "source": [
    "#importing libraries\n",
    "import matplotlib.pyplot as plt\n",
    "import pandas as pd\n",
    "import numpy as np\n",
    "import scipy.stats as stats\n",
    "from scipy.stats import linregress"
   ]
  },
  {
   "cell_type": "code",
   "execution_count": 63,
   "metadata": {},
   "outputs": [
    {
     "data": {
      "text/html": [
       "<div>\n",
       "<style scoped>\n",
       "    .dataframe tbody tr th:only-of-type {\n",
       "        vertical-align: middle;\n",
       "    }\n",
       "\n",
       "    .dataframe tbody tr th {\n",
       "        vertical-align: top;\n",
       "    }\n",
       "\n",
       "    .dataframe thead th {\n",
       "        text-align: right;\n",
       "    }\n",
       "</style>\n",
       "<table border=\"1\" class=\"dataframe\">\n",
       "  <thead>\n",
       "    <tr style=\"text-align: right;\">\n",
       "      <th></th>\n",
       "      <th>week</th>\n",
       "      <th>weekending</th>\n",
       "      <th>Spec Tested</th>\n",
       "      <th>% Pos</th>\n",
       "      <th>% positive</th>\n",
       "      <th>Positive</th>\n",
       "      <th>Total Pos Cases</th>\n",
       "    </tr>\n",
       "  </thead>\n",
       "  <tbody>\n",
       "    <tr>\n",
       "      <th>0</th>\n",
       "      <td>10</td>\n",
       "      <td>7-Mar</td>\n",
       "      <td>8320</td>\n",
       "      <td>11.8</td>\n",
       "      <td>0.118</td>\n",
       "      <td>982</td>\n",
       "      <td>982</td>\n",
       "    </tr>\n",
       "    <tr>\n",
       "      <th>1</th>\n",
       "      <td>11</td>\n",
       "      <td>14-Mar</td>\n",
       "      <td>38482</td>\n",
       "      <td>9.5</td>\n",
       "      <td>0.095</td>\n",
       "      <td>3656</td>\n",
       "      <td>4638</td>\n",
       "    </tr>\n",
       "    <tr>\n",
       "      <th>2</th>\n",
       "      <td>12</td>\n",
       "      <td>21-Mar</td>\n",
       "      <td>89991</td>\n",
       "      <td>9.0</td>\n",
       "      <td>0.090</td>\n",
       "      <td>8099</td>\n",
       "      <td>12737</td>\n",
       "    </tr>\n",
       "    <tr>\n",
       "      <th>3</th>\n",
       "      <td>13</td>\n",
       "      <td>28-Mar</td>\n",
       "      <td>112188</td>\n",
       "      <td>13.0</td>\n",
       "      <td>0.130</td>\n",
       "      <td>14584</td>\n",
       "      <td>27321</td>\n",
       "    </tr>\n",
       "    <tr>\n",
       "      <th>4</th>\n",
       "      <td>14</td>\n",
       "      <td>4-Apr</td>\n",
       "      <td>663328</td>\n",
       "      <td>22.0</td>\n",
       "      <td>0.220</td>\n",
       "      <td>145932</td>\n",
       "      <td>173253</td>\n",
       "    </tr>\n",
       "  </tbody>\n",
       "</table>\n",
       "</div>"
      ],
      "text/plain": [
       "   week weekending  Spec Tested  % Pos  % positive  Positive  Total Pos Cases\n",
       "0    10      7-Mar         8320   11.8       0.118       982              982\n",
       "1    11     14-Mar        38482    9.5       0.095      3656             4638\n",
       "2    12     21-Mar        89991    9.0       0.090      8099            12737\n",
       "3    13     28-Mar       112188   13.0       0.130     14584            27321\n",
       "4    14      4-Apr       663328   22.0       0.220    145932           173253"
      ]
     },
     "execution_count": 63,
     "metadata": {},
     "output_type": "execute_result"
    }
   ],
   "source": [
    "#how many covid cases have we gone through?\n",
    "covid = pd.read_csv(\"Data/weeklycovid.csv\")\n",
    "covid.head()"
   ]
  },
  {
   "cell_type": "code",
   "execution_count": 4,
   "metadata": {},
   "outputs": [
    {
     "data": {
      "text/html": [
       "<div>\n",
       "<style scoped>\n",
       "    .dataframe tbody tr th:only-of-type {\n",
       "        vertical-align: middle;\n",
       "    }\n",
       "\n",
       "    .dataframe tbody tr th {\n",
       "        vertical-align: top;\n",
       "    }\n",
       "\n",
       "    .dataframe thead th {\n",
       "        text-align: right;\n",
       "    }\n",
       "</style>\n",
       "<table border=\"1\" class=\"dataframe\">\n",
       "  <thead>\n",
       "    <tr style=\"text-align: right;\">\n",
       "      <th></th>\n",
       "      <th>week</th>\n",
       "      <th>Spec Tested</th>\n",
       "    </tr>\n",
       "  </thead>\n",
       "  <tbody>\n",
       "    <tr>\n",
       "      <th>0</th>\n",
       "      <td>10</td>\n",
       "      <td>8320</td>\n",
       "    </tr>\n",
       "    <tr>\n",
       "      <th>1</th>\n",
       "      <td>11</td>\n",
       "      <td>38482</td>\n",
       "    </tr>\n",
       "    <tr>\n",
       "      <th>2</th>\n",
       "      <td>12</td>\n",
       "      <td>89991</td>\n",
       "    </tr>\n",
       "    <tr>\n",
       "      <th>3</th>\n",
       "      <td>13</td>\n",
       "      <td>112188</td>\n",
       "    </tr>\n",
       "    <tr>\n",
       "      <th>4</th>\n",
       "      <td>14</td>\n",
       "      <td>663328</td>\n",
       "    </tr>\n",
       "  </tbody>\n",
       "</table>\n",
       "</div>"
      ],
      "text/plain": [
       "   week  Spec Tested\n",
       "0    10         8320\n",
       "1    11        38482\n",
       "2    12        89991\n",
       "3    13       112188\n",
       "4    14       663328"
      ]
     },
     "execution_count": 4,
     "metadata": {},
     "output_type": "execute_result"
    }
   ],
   "source": [
    "#isolate the week numbers and the number of people tested that week\n",
    "covid = covid[[\"week\",\"Spec Tested\"]]\n",
    "covid.head()"
   ]
  },
  {
   "cell_type": "code",
   "execution_count": 60,
   "metadata": {},
   "outputs": [
    {
     "data": {
      "text/html": [
       "<div>\n",
       "<style scoped>\n",
       "    .dataframe tbody tr th:only-of-type {\n",
       "        vertical-align: middle;\n",
       "    }\n",
       "\n",
       "    .dataframe tbody tr th {\n",
       "        vertical-align: top;\n",
       "    }\n",
       "\n",
       "    .dataframe thead th {\n",
       "        text-align: right;\n",
       "    }\n",
       "</style>\n",
       "<table border=\"1\" class=\"dataframe\">\n",
       "  <thead>\n",
       "    <tr style=\"text-align: right;\">\n",
       "      <th></th>\n",
       "      <th>week</th>\n",
       "      <th>weekending</th>\n",
       "      <th>Switch</th>\n",
       "      <th>PS4</th>\n",
       "      <th>Xbox 1</th>\n",
       "      <th>PS5</th>\n",
       "      <th>XboxXS</th>\n",
       "      <th>month</th>\n",
       "      <th>Switch.1</th>\n",
       "      <th>PS4.1</th>\n",
       "      <th>Xbox 1.1</th>\n",
       "      <th>PS5.1</th>\n",
       "      <th>XboxXS.1</th>\n",
       "    </tr>\n",
       "  </thead>\n",
       "  <tbody>\n",
       "    <tr>\n",
       "      <th>0</th>\n",
       "      <td>1</td>\n",
       "      <td>4-Jan</td>\n",
       "      <td>140734</td>\n",
       "      <td>66076</td>\n",
       "      <td>58131</td>\n",
       "      <td>NaN</td>\n",
       "      <td>NaN</td>\n",
       "      <td>January</td>\n",
       "      <td>430118.0</td>\n",
       "      <td>196176.0</td>\n",
       "      <td>149249.0</td>\n",
       "      <td>NaN</td>\n",
       "      <td>NaN</td>\n",
       "    </tr>\n",
       "    <tr>\n",
       "      <th>1</th>\n",
       "      <td>2</td>\n",
       "      <td>11-Jan</td>\n",
       "      <td>106199</td>\n",
       "      <td>47115</td>\n",
       "      <td>31751</td>\n",
       "      <td>NaN</td>\n",
       "      <td>NaN</td>\n",
       "      <td>February</td>\n",
       "      <td>475769.0</td>\n",
       "      <td>247614.0</td>\n",
       "      <td>170003.0</td>\n",
       "      <td>NaN</td>\n",
       "      <td>NaN</td>\n",
       "    </tr>\n",
       "    <tr>\n",
       "      <th>2</th>\n",
       "      <td>3</td>\n",
       "      <td>18-Jan</td>\n",
       "      <td>94798</td>\n",
       "      <td>42145</td>\n",
       "      <td>30057</td>\n",
       "      <td>NaN</td>\n",
       "      <td>NaN</td>\n",
       "      <td>March</td>\n",
       "      <td>550541.0</td>\n",
       "      <td>153916.0</td>\n",
       "      <td>119480.0</td>\n",
       "      <td>NaN</td>\n",
       "      <td>NaN</td>\n",
       "    </tr>\n",
       "    <tr>\n",
       "      <th>3</th>\n",
       "      <td>4</td>\n",
       "      <td>25-Jan</td>\n",
       "      <td>88387</td>\n",
       "      <td>40840</td>\n",
       "      <td>29310</td>\n",
       "      <td>NaN</td>\n",
       "      <td>NaN</td>\n",
       "      <td>April</td>\n",
       "      <td>403756.0</td>\n",
       "      <td>243486.0</td>\n",
       "      <td>136264.0</td>\n",
       "      <td>NaN</td>\n",
       "      <td>NaN</td>\n",
       "    </tr>\n",
       "    <tr>\n",
       "      <th>4</th>\n",
       "      <td>5</td>\n",
       "      <td>1-Feb</td>\n",
       "      <td>88193</td>\n",
       "      <td>43714</td>\n",
       "      <td>27554</td>\n",
       "      <td>NaN</td>\n",
       "      <td>NaN</td>\n",
       "      <td>May</td>\n",
       "      <td>643116.0</td>\n",
       "      <td>316025.0</td>\n",
       "      <td>232599.0</td>\n",
       "      <td>NaN</td>\n",
       "      <td>NaN</td>\n",
       "    </tr>\n",
       "  </tbody>\n",
       "</table>\n",
       "</div>"
      ],
      "text/plain": [
       "   week weekending  Switch    PS4  Xbox 1  PS5  XboxXS     month  Switch.1  \\\n",
       "0     1      4-Jan  140734  66076   58131  NaN     NaN   January  430118.0   \n",
       "1     2     11-Jan  106199  47115   31751  NaN     NaN  February  475769.0   \n",
       "2     3     18-Jan   94798  42145   30057  NaN     NaN     March  550541.0   \n",
       "3     4     25-Jan   88387  40840   29310  NaN     NaN     April  403756.0   \n",
       "4     5      1-Feb   88193  43714   27554  NaN     NaN       May  643116.0   \n",
       "\n",
       "      PS4.1  Xbox 1.1  PS5.1  XboxXS.1  \n",
       "0  196176.0  149249.0    NaN       NaN  \n",
       "1  247614.0  170003.0    NaN       NaN  \n",
       "2  153916.0  119480.0    NaN       NaN  \n",
       "3  243486.0  136264.0    NaN       NaN  \n",
       "4  316025.0  232599.0    NaN       NaN  "
      ]
     },
     "execution_count": 60,
     "metadata": {},
     "output_type": "execute_result"
    }
   ],
   "source": [
    "#importing console sales data for 2020\n",
    "games20 = pd.read_csv(\"Data/consolesales.csv\")\n",
    "games20.head()"
   ]
  },
  {
   "cell_type": "code",
   "execution_count": 61,
   "metadata": {},
   "outputs": [
    {
     "data": {
      "text/html": [
       "<div>\n",
       "<style scoped>\n",
       "    .dataframe tbody tr th:only-of-type {\n",
       "        vertical-align: middle;\n",
       "    }\n",
       "\n",
       "    .dataframe tbody tr th {\n",
       "        vertical-align: top;\n",
       "    }\n",
       "\n",
       "    .dataframe thead th {\n",
       "        text-align: right;\n",
       "    }\n",
       "</style>\n",
       "<table border=\"1\" class=\"dataframe\">\n",
       "  <thead>\n",
       "    <tr style=\"text-align: right;\">\n",
       "      <th></th>\n",
       "      <th>week</th>\n",
       "      <th>weekending</th>\n",
       "      <th>Switch</th>\n",
       "      <th>PS4</th>\n",
       "      <th>Xbox 1</th>\n",
       "      <th>PS5</th>\n",
       "      <th>XboxXS</th>\n",
       "    </tr>\n",
       "  </thead>\n",
       "  <tbody>\n",
       "    <tr>\n",
       "      <th>9</th>\n",
       "      <td>10</td>\n",
       "      <td>7-Mar</td>\n",
       "      <td>85547</td>\n",
       "      <td>41354</td>\n",
       "      <td>32076</td>\n",
       "      <td>NaN</td>\n",
       "      <td>NaN</td>\n",
       "    </tr>\n",
       "    <tr>\n",
       "      <th>10</th>\n",
       "      <td>11</td>\n",
       "      <td>14-Mar</td>\n",
       "      <td>81541</td>\n",
       "      <td>37817</td>\n",
       "      <td>29345</td>\n",
       "      <td>NaN</td>\n",
       "      <td>NaN</td>\n",
       "    </tr>\n",
       "    <tr>\n",
       "      <th>11</th>\n",
       "      <td>12</td>\n",
       "      <td>21-Mar</td>\n",
       "      <td>231156</td>\n",
       "      <td>34841</td>\n",
       "      <td>27810</td>\n",
       "      <td>NaN</td>\n",
       "      <td>NaN</td>\n",
       "    </tr>\n",
       "    <tr>\n",
       "      <th>12</th>\n",
       "      <td>13</td>\n",
       "      <td>28-Mar</td>\n",
       "      <td>152297</td>\n",
       "      <td>39904</td>\n",
       "      <td>30249</td>\n",
       "      <td>NaN</td>\n",
       "      <td>NaN</td>\n",
       "    </tr>\n",
       "    <tr>\n",
       "      <th>13</th>\n",
       "      <td>14</td>\n",
       "      <td>4-Apr</td>\n",
       "      <td>132523</td>\n",
       "      <td>47071</td>\n",
       "      <td>33096</td>\n",
       "      <td>NaN</td>\n",
       "      <td>NaN</td>\n",
       "    </tr>\n",
       "  </tbody>\n",
       "</table>\n",
       "</div>"
      ],
      "text/plain": [
       "    week weekending  Switch    PS4  Xbox 1  PS5  XboxXS\n",
       "9     10      7-Mar   85547  41354   32076  NaN     NaN\n",
       "10    11     14-Mar   81541  37817   29345  NaN     NaN\n",
       "11    12     21-Mar  231156  34841   27810  NaN     NaN\n",
       "12    13     28-Mar  152297  39904   30249  NaN     NaN\n",
       "13    14      4-Apr  132523  47071   33096  NaN     NaN"
      ]
     },
     "execution_count": 61,
     "metadata": {},
     "output_type": "execute_result"
    }
   ],
   "source": [
    "#cutting the data from week 10 and on to match the covid data\n",
    "games20c = games20[[\"week\", \"weekending\", \"Switch\", \"PS4\", \"Xbox 1\", \"PS5\", \"XboxXS\"]]\n",
    "games20c = games20c[9:51]\n",
    "games20c.head()"
   ]
  },
  {
   "cell_type": "code",
   "execution_count": 62,
   "metadata": {},
   "outputs": [
    {
     "data": {
      "text/html": [
       "<div>\n",
       "<style scoped>\n",
       "    .dataframe tbody tr th:only-of-type {\n",
       "        vertical-align: middle;\n",
       "    }\n",
       "\n",
       "    .dataframe tbody tr th {\n",
       "        vertical-align: top;\n",
       "    }\n",
       "\n",
       "    .dataframe thead th {\n",
       "        text-align: right;\n",
       "    }\n",
       "</style>\n",
       "<table border=\"1\" class=\"dataframe\">\n",
       "  <thead>\n",
       "    <tr style=\"text-align: right;\">\n",
       "      <th></th>\n",
       "      <th>month</th>\n",
       "      <th>Switch.1</th>\n",
       "      <th>PS4.1</th>\n",
       "      <th>Xbox 1.1</th>\n",
       "      <th>PS5.1</th>\n",
       "      <th>XboxXS.1</th>\n",
       "    </tr>\n",
       "  </thead>\n",
       "  <tbody>\n",
       "    <tr>\n",
       "      <th>0</th>\n",
       "      <td>January</td>\n",
       "      <td>430118.0</td>\n",
       "      <td>196176.0</td>\n",
       "      <td>149249.0</td>\n",
       "      <td>NaN</td>\n",
       "      <td>NaN</td>\n",
       "    </tr>\n",
       "    <tr>\n",
       "      <th>1</th>\n",
       "      <td>February</td>\n",
       "      <td>475769.0</td>\n",
       "      <td>247614.0</td>\n",
       "      <td>170003.0</td>\n",
       "      <td>NaN</td>\n",
       "      <td>NaN</td>\n",
       "    </tr>\n",
       "    <tr>\n",
       "      <th>2</th>\n",
       "      <td>March</td>\n",
       "      <td>550541.0</td>\n",
       "      <td>153916.0</td>\n",
       "      <td>119480.0</td>\n",
       "      <td>NaN</td>\n",
       "      <td>NaN</td>\n",
       "    </tr>\n",
       "    <tr>\n",
       "      <th>3</th>\n",
       "      <td>April</td>\n",
       "      <td>403756.0</td>\n",
       "      <td>243486.0</td>\n",
       "      <td>136264.0</td>\n",
       "      <td>NaN</td>\n",
       "      <td>NaN</td>\n",
       "    </tr>\n",
       "    <tr>\n",
       "      <th>4</th>\n",
       "      <td>May</td>\n",
       "      <td>643116.0</td>\n",
       "      <td>316025.0</td>\n",
       "      <td>232599.0</td>\n",
       "      <td>NaN</td>\n",
       "      <td>NaN</td>\n",
       "    </tr>\n",
       "  </tbody>\n",
       "</table>\n",
       "</div>"
      ],
      "text/plain": [
       "      month  Switch.1     PS4.1  Xbox 1.1  PS5.1  XboxXS.1\n",
       "0   January  430118.0  196176.0  149249.0    NaN       NaN\n",
       "1  February  475769.0  247614.0  170003.0    NaN       NaN\n",
       "2     March  550541.0  153916.0  119480.0    NaN       NaN\n",
       "3     April  403756.0  243486.0  136264.0    NaN       NaN\n",
       "4       May  643116.0  316025.0  232599.0    NaN       NaN"
      ]
     },
     "execution_count": 62,
     "metadata": {},
     "output_type": "execute_result"
    }
   ],
   "source": [
    "#a dataframe with console sales done monthly\n",
    "games202 = games20[[\"month\", \"Switch.1\", \"PS4.1\", \"Xbox 1.1\", \"PS5.1\", \"XboxXS.1\"]]\n",
    "games202 = games202[0:12]\n",
    "games202.head()"
   ]
  },
  {
   "cell_type": "code",
   "execution_count": 8,
   "metadata": {},
   "outputs": [
    {
     "data": {
      "text/html": [
       "<div>\n",
       "<style scoped>\n",
       "    .dataframe tbody tr th:only-of-type {\n",
       "        vertical-align: middle;\n",
       "    }\n",
       "\n",
       "    .dataframe tbody tr th {\n",
       "        vertical-align: top;\n",
       "    }\n",
       "\n",
       "    .dataframe thead th {\n",
       "        text-align: right;\n",
       "    }\n",
       "</style>\n",
       "<table border=\"1\" class=\"dataframe\">\n",
       "  <thead>\n",
       "    <tr style=\"text-align: right;\">\n",
       "      <th></th>\n",
       "      <th>week</th>\n",
       "      <th>weekending</th>\n",
       "      <th>Switch</th>\n",
       "      <th>PS4</th>\n",
       "      <th>Xbox 1</th>\n",
       "      <th>month</th>\n",
       "      <th>Switch.1</th>\n",
       "      <th>PS4.1</th>\n",
       "      <th>Xbox 1.1</th>\n",
       "    </tr>\n",
       "  </thead>\n",
       "  <tbody>\n",
       "    <tr>\n",
       "      <th>0</th>\n",
       "      <td>26</td>\n",
       "      <td>29-Jun</td>\n",
       "      <td>104728</td>\n",
       "      <td>46050</td>\n",
       "      <td>28320</td>\n",
       "      <td>July</td>\n",
       "      <td>331226.0</td>\n",
       "      <td>196706.0</td>\n",
       "      <td>106425.0</td>\n",
       "    </tr>\n",
       "    <tr>\n",
       "      <th>1</th>\n",
       "      <td>27</td>\n",
       "      <td>6-Jul</td>\n",
       "      <td>86648</td>\n",
       "      <td>44940</td>\n",
       "      <td>25825</td>\n",
       "      <td>August</td>\n",
       "      <td>384991.0</td>\n",
       "      <td>272081.0</td>\n",
       "      <td>133817.0</td>\n",
       "    </tr>\n",
       "    <tr>\n",
       "      <th>2</th>\n",
       "      <td>28</td>\n",
       "      <td>13-Jul</td>\n",
       "      <td>83028</td>\n",
       "      <td>48312</td>\n",
       "      <td>25050</td>\n",
       "      <td>September</td>\n",
       "      <td>533048.0</td>\n",
       "      <td>247519.0</td>\n",
       "      <td>138941.0</td>\n",
       "    </tr>\n",
       "    <tr>\n",
       "      <th>3</th>\n",
       "      <td>29</td>\n",
       "      <td>20-Jul</td>\n",
       "      <td>83659</td>\n",
       "      <td>52802</td>\n",
       "      <td>28154</td>\n",
       "      <td>October</td>\n",
       "      <td>177938.0</td>\n",
       "      <td>264060.0</td>\n",
       "      <td>138274.0</td>\n",
       "    </tr>\n",
       "    <tr>\n",
       "      <th>4</th>\n",
       "      <td>30</td>\n",
       "      <td>27-Jul</td>\n",
       "      <td>77891</td>\n",
       "      <td>50652</td>\n",
       "      <td>27396</td>\n",
       "      <td>November</td>\n",
       "      <td>1765392.0</td>\n",
       "      <td>1221499.0</td>\n",
       "      <td>1011929.0</td>\n",
       "    </tr>\n",
       "  </tbody>\n",
       "</table>\n",
       "</div>"
      ],
      "text/plain": [
       "   week weekending  Switch    PS4  Xbox 1      month   Switch.1      PS4.1  \\\n",
       "0    26     29-Jun  104728  46050   28320       July   331226.0   196706.0   \n",
       "1    27      6-Jul   86648  44940   25825     August   384991.0   272081.0   \n",
       "2    28     13-Jul   83028  48312   25050  September   533048.0   247519.0   \n",
       "3    29     20-Jul   83659  52802   28154    October   177938.0   264060.0   \n",
       "4    30     27-Jul   77891  50652   27396   November  1765392.0  1221499.0   \n",
       "\n",
       "    Xbox 1.1  \n",
       "0   106425.0  \n",
       "1   133817.0  \n",
       "2   138941.0  \n",
       "3   138274.0  \n",
       "4  1011929.0  "
      ]
     },
     "execution_count": 8,
     "metadata": {},
     "output_type": "execute_result"
    }
   ],
   "source": [
    "#console sales data for 2019\n",
    "games19 = pd.read_csv(\"Data/consolesales2019.csv\")\n",
    "games19.head()"
   ]
  },
  {
   "cell_type": "code",
   "execution_count": 9,
   "metadata": {},
   "outputs": [
    {
     "data": {
      "text/html": [
       "<div>\n",
       "<style scoped>\n",
       "    .dataframe tbody tr th:only-of-type {\n",
       "        vertical-align: middle;\n",
       "    }\n",
       "\n",
       "    .dataframe tbody tr th {\n",
       "        vertical-align: top;\n",
       "    }\n",
       "\n",
       "    .dataframe thead th {\n",
       "        text-align: right;\n",
       "    }\n",
       "</style>\n",
       "<table border=\"1\" class=\"dataframe\">\n",
       "  <thead>\n",
       "    <tr style=\"text-align: right;\">\n",
       "      <th></th>\n",
       "      <th>month</th>\n",
       "      <th>Switch.1</th>\n",
       "      <th>PS4.1</th>\n",
       "      <th>Xbox 1.1</th>\n",
       "    </tr>\n",
       "  </thead>\n",
       "  <tbody>\n",
       "    <tr>\n",
       "      <th>0</th>\n",
       "      <td>July</td>\n",
       "      <td>331226.0</td>\n",
       "      <td>196706.0</td>\n",
       "      <td>106425.0</td>\n",
       "    </tr>\n",
       "    <tr>\n",
       "      <th>1</th>\n",
       "      <td>August</td>\n",
       "      <td>384991.0</td>\n",
       "      <td>272081.0</td>\n",
       "      <td>133817.0</td>\n",
       "    </tr>\n",
       "    <tr>\n",
       "      <th>2</th>\n",
       "      <td>September</td>\n",
       "      <td>533048.0</td>\n",
       "      <td>247519.0</td>\n",
       "      <td>138941.0</td>\n",
       "    </tr>\n",
       "    <tr>\n",
       "      <th>3</th>\n",
       "      <td>October</td>\n",
       "      <td>177938.0</td>\n",
       "      <td>264060.0</td>\n",
       "      <td>138274.0</td>\n",
       "    </tr>\n",
       "    <tr>\n",
       "      <th>4</th>\n",
       "      <td>November</td>\n",
       "      <td>1765392.0</td>\n",
       "      <td>1221499.0</td>\n",
       "      <td>1011929.0</td>\n",
       "    </tr>\n",
       "    <tr>\n",
       "      <th>5</th>\n",
       "      <td>December</td>\n",
       "      <td>2084530.0</td>\n",
       "      <td>808123.0</td>\n",
       "      <td>759234.0</td>\n",
       "    </tr>\n",
       "  </tbody>\n",
       "</table>\n",
       "</div>"
      ],
      "text/plain": [
       "       month   Switch.1      PS4.1   Xbox 1.1\n",
       "0       July   331226.0   196706.0   106425.0\n",
       "1     August   384991.0   272081.0   133817.0\n",
       "2  September   533048.0   247519.0   138941.0\n",
       "3    October   177938.0   264060.0   138274.0\n",
       "4   November  1765392.0  1221499.0  1011929.0\n",
       "5   December  2084530.0   808123.0   759234.0"
      ]
     },
     "execution_count": 9,
     "metadata": {},
     "output_type": "execute_result"
    }
   ],
   "source": [
    "#monthly sales data for 2019\n",
    "games19 = games19[[\"month\", \"Switch.1\", \"PS4.1\", \"Xbox 1.1\"]]\n",
    "games19 = games19.iloc[0:6]\n",
    "games19"
   ]
  },
  {
   "cell_type": "code",
   "execution_count": 10,
   "metadata": {},
   "outputs": [],
   "source": [
    "#meant to count through the rows and make a list consisting of the counts\n",
    "#yes2 refers to 2019 and yes refers to 2020\n",
    "yes2 = []\n",
    "yes2l = []\n",
    "yes = []\n",
    "yesl = []\n",
    "for i in games20[\"month\"]:\n",
    "    str(i)\n",
    "    yes.append(i)\n",
    "yes\n",
    "for i in range(len(yes)):\n",
    "    yesl.append(i)\n",
    "for i in games19[\"month\"]:\n",
    "    str(i)\n",
    "    yes2.append(i)\n",
    "for i in range(len(yes2)):\n",
    "    yes2l.append(i)"
   ]
  },
  {
   "cell_type": "code",
   "execution_count": 24,
   "metadata": {},
   "outputs": [
    {
     "data": {
      "text/plain": [
       "<Figure size 720x720 with 0 Axes>"
      ]
     },
     "execution_count": 24,
     "metadata": {},
     "output_type": "execute_result"
    },
    {
     "data": {
      "image/png": "[encoded data removed]",
      "text/plain": [
       "<Figure size 432x288 with 1 Axes>"
      ]
     },
     "metadata": {
      "needs_background": "light"
     },
     "output_type": "display_data"
    },
    {
     "data": {
      "text/plain": [
       "<Figure size 720x720 with 0 Axes>"
      ]
     },
     "metadata": {},
     "output_type": "display_data"
    }
   ],
   "source": [
    "#plotting the console sales for mid-2019 and on\n",
    "plt.title(\"Monthly Console Sales in mid-2019 and On\")\n",
    "plt.xticks(yes2l, yes2, rotation = 'vertical')\n",
    "plt.xlabel(\"Months in 2019\")\n",
    "plt.ylabel(\"Units Sold in Millions\")\n",
    "Switch, = plt.plot(games19[\"month\"], games19[\"Switch.1\"], color=\"red\", label=\"Switch\", marker=\"o\")\n",
    "PS4, = plt.plot(games19[\"month\"], games19[\"PS4.1\"], color=\"blue\", label=\"PS4\", marker=\"o\")\n",
    "Xbone, = plt.plot(games19[\"month\"], games19[\"Xbox 1.1\"], color=\"green\", label=\"Xbox 1\", marker=\"o\")\n",
    "plt.legend(handles = [Switch, PS4, Xbone,],loc=\"upper left\")\n",
    "plt.savefig(\"salesmid2019on.png\")\n",
    "plt.figure(figsize=(10,10))"
   ]
  },
  {
   "cell_type": "code",
   "execution_count": 12,
   "metadata": {},
   "outputs": [
    {
     "data": {
      "text/plain": [
       "<Figure size 720x720 with 0 Axes>"
      ]
     },
     "execution_count": 12,
     "metadata": {},
     "output_type": "execute_result"
    },
    {
     "data": {
      "image/png": "[encoded data removed]",
      "text/plain": [
       "<Figure size 432x288 with 1 Axes>"
      ]
     },
     "metadata": {
      "needs_background": "light"
     },
     "output_type": "display_data"
    },
    {
     "data": {
      "text/plain": [
       "<Figure size 720x720 with 0 Axes>"
      ]
     },
     "metadata": {},
     "output_type": "display_data"
    }
   ],
   "source": [
    "#plotting the console sales for 2020\n",
    "plt.title(\"Monthly Console Sales in 2020\")\n",
    "plt.xticks(yesl, yes, rotation = 'vertical')\n",
    "plt.xlabel(\"Months in 2020\")\n",
    "plt.ylabel(\"Units Sold in Millions\")\n",
    "Switch, = plt.plot(games202[\"month\"], games202[\"Switch.1\"], color=\"red\", label=\"Switch\", marker=\"o\")\n",
    "PS4, = plt.plot(games202[\"month\"], games202[\"PS4.1\"], color=\"blue\", label=\"PS4\", marker=\"o\")\n",
    "Xbone, = plt.plot(games202[\"month\"], games202[\"Xbox 1.1\"], color=\"green\", label=\"Xbox 1\", marker=\"o\")\n",
    "plt.legend(handles = [Switch, PS4, Xbone,],loc=\"upper left\")\n",
    "plt.savefig(\"sales2020.png\")\n",
    "plt.figure(figsize=(10, 10))"
   ]
  },
  {
   "cell_type": "code",
   "execution_count": 25,
   "metadata": {},
   "outputs": [
    {
     "data": {
      "text/plain": [
       "<Figure size 720x720 with 0 Axes>"
      ]
     },
     "execution_count": 25,
     "metadata": {},
     "output_type": "execute_result"
    },
    {
     "data": {
      "image/png": "[encoded data removed]",
      "text/plain": [
       "<Figure size 432x288 with 1 Axes>"
      ]
     },
     "metadata": {
      "needs_background": "light"
     },
     "output_type": "display_data"
    },
    {
     "data": {
      "text/plain": [
       "<Figure size 720x720 with 0 Axes>"
      ]
     },
     "metadata": {},
     "output_type": "display_data"
    }
   ],
   "source": [
    "#2020, but with the addtion of the PS5 and Xbox Series consoles\n",
    "plt.title(\"Monthly Console Sales in 2020\")\n",
    "plt.xticks(yesl, yes, rotation = 'vertical')\n",
    "plt.xlabel(\"Months in 2020\")\n",
    "plt.ylabel(\"Units Sold in Millions\")\n",
    "Switch, = plt.plot(games202[\"month\"], games202[\"Switch.1\"], color=\"red\", label=\"Switch\", marker=\"o\")\n",
    "PS4, = plt.plot(games202[\"month\"], games202[\"PS4.1\"], color=\"blue\", label=\"PS4\", marker=\"o\")\n",
    "Xbone, = plt.plot(games202[\"month\"], games202[\"Xbox 1.1\"], color=\"green\", label=\"Xbox 1\", marker=\"o\")\n",
    "PS5, = plt.plot(games202[\"month\"], games202[\"PS5.1\"], label=\"PS5\", marker=\"o\")\n",
    "XboxXS, = plt.plot(games202[\"month\"], games202[\"XboxXS.1\"], color=\"black\", label=\"Xbox Series X/S\", marker=\"o\")\n",
    "plt.legend(handles = [Switch, PS4, Xbone, PS5, XboxXS,],loc=\"upper left\")\n",
    "plt.savefig(\"gsales2020with.png\")\n",
    "plt.figure(figsize=(10, 10))"
   ]
  },
  {
   "cell_type": "code",
   "execution_count": 64,
   "metadata": {},
   "outputs": [
    {
     "data": {
      "text/html": [
       "<div>\n",
       "<style scoped>\n",
       "    .dataframe tbody tr th:only-of-type {\n",
       "        vertical-align: middle;\n",
       "    }\n",
       "\n",
       "    .dataframe tbody tr th {\n",
       "        vertical-align: top;\n",
       "    }\n",
       "\n",
       "    .dataframe thead th {\n",
       "        text-align: right;\n",
       "    }\n",
       "</style>\n",
       "<table border=\"1\" class=\"dataframe\">\n",
       "  <thead>\n",
       "    <tr style=\"text-align: right;\">\n",
       "      <th></th>\n",
       "      <th>week</th>\n",
       "      <th>weekending_x</th>\n",
       "      <th>Spec Tested</th>\n",
       "      <th>% Pos</th>\n",
       "      <th>% positive</th>\n",
       "      <th>Positive</th>\n",
       "      <th>Total Pos Cases</th>\n",
       "      <th>weekending_y</th>\n",
       "      <th>Switch</th>\n",
       "      <th>PS4</th>\n",
       "      <th>Xbox 1</th>\n",
       "      <th>PS5</th>\n",
       "      <th>XboxXS</th>\n",
       "      <th>month</th>\n",
       "      <th>Switch.1</th>\n",
       "      <th>PS4.1</th>\n",
       "      <th>Xbox 1.1</th>\n",
       "      <th>PS5.1</th>\n",
       "      <th>XboxXS.1</th>\n",
       "    </tr>\n",
       "  </thead>\n",
       "  <tbody>\n",
       "    <tr>\n",
       "      <th>0</th>\n",
       "      <td>10</td>\n",
       "      <td>7-Mar</td>\n",
       "      <td>8320</td>\n",
       "      <td>11.8</td>\n",
       "      <td>0.118</td>\n",
       "      <td>982</td>\n",
       "      <td>982</td>\n",
       "      <td>7-Mar</td>\n",
       "      <td>85547</td>\n",
       "      <td>41354</td>\n",
       "      <td>32076</td>\n",
       "      <td>NaN</td>\n",
       "      <td>NaN</td>\n",
       "      <td>October</td>\n",
       "      <td>597861.0</td>\n",
       "      <td>205208.0</td>\n",
       "      <td>110229.0</td>\n",
       "      <td>NaN</td>\n",
       "      <td>NaN</td>\n",
       "    </tr>\n",
       "    <tr>\n",
       "      <th>1</th>\n",
       "      <td>11</td>\n",
       "      <td>14-Mar</td>\n",
       "      <td>38482</td>\n",
       "      <td>9.5</td>\n",
       "      <td>0.095</td>\n",
       "      <td>3656</td>\n",
       "      <td>4638</td>\n",
       "      <td>14-Mar</td>\n",
       "      <td>81541</td>\n",
       "      <td>37817</td>\n",
       "      <td>29345</td>\n",
       "      <td>NaN</td>\n",
       "      <td>NaN</td>\n",
       "      <td>November</td>\n",
       "      <td>1638544.0</td>\n",
       "      <td>189393.0</td>\n",
       "      <td>170549.0</td>\n",
       "      <td>1624154.0</td>\n",
       "      <td>1150396.0</td>\n",
       "    </tr>\n",
       "    <tr>\n",
       "      <th>2</th>\n",
       "      <td>12</td>\n",
       "      <td>21-Mar</td>\n",
       "      <td>89991</td>\n",
       "      <td>9.0</td>\n",
       "      <td>0.090</td>\n",
       "      <td>8099</td>\n",
       "      <td>12737</td>\n",
       "      <td>21-Mar</td>\n",
       "      <td>231156</td>\n",
       "      <td>34841</td>\n",
       "      <td>27810</td>\n",
       "      <td>NaN</td>\n",
       "      <td>NaN</td>\n",
       "      <td>December</td>\n",
       "      <td>2316530.0</td>\n",
       "      <td>240124.0</td>\n",
       "      <td>275228.0</td>\n",
       "      <td>629955.0</td>\n",
       "      <td>491481.0</td>\n",
       "    </tr>\n",
       "    <tr>\n",
       "      <th>3</th>\n",
       "      <td>13</td>\n",
       "      <td>28-Mar</td>\n",
       "      <td>112188</td>\n",
       "      <td>13.0</td>\n",
       "      <td>0.130</td>\n",
       "      <td>14584</td>\n",
       "      <td>27321</td>\n",
       "      <td>28-Mar</td>\n",
       "      <td>152297</td>\n",
       "      <td>39904</td>\n",
       "      <td>30249</td>\n",
       "      <td>NaN</td>\n",
       "      <td>NaN</td>\n",
       "      <td>NaN</td>\n",
       "      <td>NaN</td>\n",
       "      <td>NaN</td>\n",
       "      <td>NaN</td>\n",
       "      <td>NaN</td>\n",
       "      <td>NaN</td>\n",
       "    </tr>\n",
       "    <tr>\n",
       "      <th>4</th>\n",
       "      <td>14</td>\n",
       "      <td>4-Apr</td>\n",
       "      <td>663328</td>\n",
       "      <td>22.0</td>\n",
       "      <td>0.220</td>\n",
       "      <td>145932</td>\n",
       "      <td>173253</td>\n",
       "      <td>4-Apr</td>\n",
       "      <td>132523</td>\n",
       "      <td>47071</td>\n",
       "      <td>33096</td>\n",
       "      <td>NaN</td>\n",
       "      <td>NaN</td>\n",
       "      <td>NaN</td>\n",
       "      <td>NaN</td>\n",
       "      <td>NaN</td>\n",
       "      <td>NaN</td>\n",
       "      <td>NaN</td>\n",
       "      <td>NaN</td>\n",
       "    </tr>\n",
       "  </tbody>\n",
       "</table>\n",
       "</div>"
      ],
      "text/plain": [
       "   week weekending_x  Spec Tested  % Pos  % positive  Positive  \\\n",
       "0    10        7-Mar         8320   11.8       0.118       982   \n",
       "1    11       14-Mar        38482    9.5       0.095      3656   \n",
       "2    12       21-Mar        89991    9.0       0.090      8099   \n",
       "3    13       28-Mar       112188   13.0       0.130     14584   \n",
       "4    14        4-Apr       663328   22.0       0.220    145932   \n",
       "\n",
       "   Total Pos Cases weekending_y  Switch    PS4  Xbox 1  PS5  XboxXS     month  \\\n",
       "0              982        7-Mar   85547  41354   32076  NaN     NaN   October   \n",
       "1             4638       14-Mar   81541  37817   29345  NaN     NaN  November   \n",
       "2            12737       21-Mar  231156  34841   27810  NaN     NaN  December   \n",
       "3            27321       28-Mar  152297  39904   30249  NaN     NaN       NaN   \n",
       "4           173253        4-Apr  132523  47071   33096  NaN     NaN       NaN   \n",
       "\n",
       "    Switch.1     PS4.1  Xbox 1.1      PS5.1   XboxXS.1  \n",
       "0   597861.0  205208.0  110229.0        NaN        NaN  \n",
       "1  1638544.0  189393.0  170549.0  1624154.0  1150396.0  \n",
       "2  2316530.0  240124.0  275228.0   629955.0   491481.0  \n",
       "3        NaN       NaN       NaN        NaN        NaN  \n",
       "4        NaN       NaN       NaN        NaN        NaN  "
      ]
     },
     "execution_count": 64,
     "metadata": {},
     "output_type": "execute_result"
    }
   ],
   "source": [
    "#merging the covid and 2020 sales data\n",
    "merged = pd.merge(covid, games20, how=\"left\", on=\"week\")\n",
    "merged.head()"
   ]
  },
  {
   "cell_type": "code",
   "execution_count": 66,
   "metadata": {},
   "outputs": [
    {
     "data": {
      "text/html": [
       "<div>\n",
       "<style scoped>\n",
       "    .dataframe tbody tr th:only-of-type {\n",
       "        vertical-align: middle;\n",
       "    }\n",
       "\n",
       "    .dataframe tbody tr th {\n",
       "        vertical-align: top;\n",
       "    }\n",
       "\n",
       "    .dataframe thead th {\n",
       "        text-align: right;\n",
       "    }\n",
       "</style>\n",
       "<table border=\"1\" class=\"dataframe\">\n",
       "  <thead>\n",
       "    <tr style=\"text-align: right;\">\n",
       "      <th></th>\n",
       "      <th>week</th>\n",
       "      <th>Spec Tested</th>\n",
       "      <th>Switch</th>\n",
       "      <th>PS4</th>\n",
       "      <th>Xbox 1</th>\n",
       "    </tr>\n",
       "  </thead>\n",
       "  <tbody>\n",
       "    <tr>\n",
       "      <th>0</th>\n",
       "      <td>10</td>\n",
       "      <td>8320</td>\n",
       "      <td>85547</td>\n",
       "      <td>41354</td>\n",
       "      <td>32076</td>\n",
       "    </tr>\n",
       "    <tr>\n",
       "      <th>1</th>\n",
       "      <td>11</td>\n",
       "      <td>38482</td>\n",
       "      <td>81541</td>\n",
       "      <td>37817</td>\n",
       "      <td>29345</td>\n",
       "    </tr>\n",
       "    <tr>\n",
       "      <th>2</th>\n",
       "      <td>12</td>\n",
       "      <td>89991</td>\n",
       "      <td>231156</td>\n",
       "      <td>34841</td>\n",
       "      <td>27810</td>\n",
       "    </tr>\n",
       "    <tr>\n",
       "      <th>3</th>\n",
       "      <td>13</td>\n",
       "      <td>112188</td>\n",
       "      <td>152297</td>\n",
       "      <td>39904</td>\n",
       "      <td>30249</td>\n",
       "    </tr>\n",
       "    <tr>\n",
       "      <th>4</th>\n",
       "      <td>14</td>\n",
       "      <td>663328</td>\n",
       "      <td>132523</td>\n",
       "      <td>47071</td>\n",
       "      <td>33096</td>\n",
       "    </tr>\n",
       "  </tbody>\n",
       "</table>\n",
       "</div>"
      ],
      "text/plain": [
       "   week  Spec Tested  Switch    PS4  Xbox 1\n",
       "0    10         8320   85547  41354   32076\n",
       "1    11        38482   81541  37817   29345\n",
       "2    12        89991  231156  34841   27810\n",
       "3    13       112188  152297  39904   30249\n",
       "4    14       663328  132523  47071   33096"
      ]
     },
     "execution_count": 66,
     "metadata": {},
     "output_type": "execute_result"
    }
   ],
   "source": [
    "#cleaning it up for only the relevant data\n",
    "merged = merged[[\"week\", \"Spec Tested\", \"Switch\", \"PS4\", \"Xbox 1\"]]\n",
    "merged.head()"
   ]
  },
  {
   "cell_type": "code",
   "execution_count": 28,
   "metadata": {},
   "outputs": [
    {
     "data": {
      "text/plain": [
       "Ttest_indResult(statistic=0.30717811732315903, pvalue=0.7626697848706454)"
      ]
     },
     "execution_count": 28,
     "metadata": {},
     "output_type": "execute_result"
    }
   ],
   "source": [
    "#Nintendo Switch t test value; very significant\n",
    "stats.ttest_ind(games19[\"Switch.1\"], games202[\"Switch.1\"])"
   ]
  },
  {
   "cell_type": "code",
   "execution_count": 29,
   "metadata": {},
   "outputs": [
    {
     "data": {
      "text/plain": [
       "Ttest_indResult(statistic=2.253994975249808, pvalue=0.03857135796355045)"
      ]
     },
     "execution_count": 29,
     "metadata": {},
     "output_type": "execute_result"
    }
   ],
   "source": [
    "#PS4 t test results; somehow insignificant\n",
    "ps19 = games19[\"PS4.1\"].mean()\n",
    "ps20 = games202[\"PS4.1\"].mean()\n",
    "stats.ttest_ind(games19[\"PS4.1\"], games202[\"PS4.1\"])"
   ]
  },
  {
   "cell_type": "code",
   "execution_count": 30,
   "metadata": {},
   "outputs": [
    {
     "data": {
      "text/plain": [
       "Ttest_indResult(statistic=1.9134612562130886, pvalue=0.07375393398058776)"
      ]
     },
     "execution_count": 30,
     "metadata": {},
     "output_type": "execute_result"
    }
   ],
   "source": [
    "#Xbox 1 t test results; slightly significant\n",
    "stats.ttest_ind(games19[\"Xbox 1.1\"], games202[\"Xbox 1.1\"])"
   ]
  },
  {
   "cell_type": "code",
   "execution_count": 67,
   "metadata": {},
   "outputs": [
    {
     "data": {
      "image/png": "[encoded data removed]",
      "text/plain": [
       "<Figure size 432x288 with 1 Axes>"
      ]
     },
     "metadata": {
      "needs_background": "light"
     },
     "output_type": "display_data"
    }
   ],
   "source": [
    "#Switch sales vs. tested patients\n",
    "x_values = merged[\"Spec Tested\"]\n",
    "y_values = merged[\"Switch\"]\n",
    "(slope, intercept, rvalue, pvalue, stderr) = linregress(x_values, y_values)\n",
    "regress_values = x_values * slope + intercept\n",
    "line_eq = \"y = \" + str(round(slope,2)) + \"x + \" + str(round(intercept,2))\n",
    "plt.plot(x_values,regress_values,\"r-\")\n",
    "plt.annotate(line_eq,(0.05,30),fontsize=14,color=\"black\")\n",
    "\n",
    "#Plot Confirmed Cases against Sales in a Scatterplot \n",
    "scatter = plt.scatter(x_values, y_values)\n",
    "plt.xlabel(\"Weekly Covid Cases\")\n",
    "plt.ylabel(\"Switch Sales\")\n",
    "scatter\n",
    "plt.savefig(\"scatter.png\")"
   ]
  },
  {
   "cell_type": "code",
   "execution_count": 58,
   "metadata": {},
   "outputs": [
    {
     "data": {
      "image/png": "[encoded data removed]",
      "text/plain": [
       "<Figure size 432x288 with 1 Axes>"
      ]
     },
     "metadata": {
      "needs_background": "light"
     },
     "output_type": "display_data"
    }
   ],
   "source": [
    "#PS4 sales vs tested patients\n",
    "x_values = merged[\"Spec Tested\"]\n",
    "y_values = merged[\"PS4\"]\n",
    "(slope, intercept, rvalue, pvalue, stderr) = linregress(x_values, y_values)\n",
    "regress_values = x_values * slope + intercept\n",
    "line_eq = \"y = \" + str(round(slope,2)) + \"x + \" + str(round(intercept,2))\n",
    "plt.plot(x_values,regress_values,\"r-\")\n",
    "plt.annotate(line_eq,(0.05,30),fontsize=14,color=\"black\")\n",
    "\n",
    "#Plot Confirmed Cases against Sales in a Scatterplot \n",
    "scatter = plt.scatter(x_values, y_values)\n",
    "plt.xlabel(\"Weekly Covid Cases\")\n",
    "plt.ylabel(\"PS4 Sales\")\n",
    "scatter\n",
    "plt.savefig(\"scatterps.png\")"
   ]
  },
  {
   "cell_type": "code",
   "execution_count": 59,
   "metadata": {},
   "outputs": [
    {
     "data": {
      "image/png": "[encoded data removed]",
      "text/plain": [
       "<Figure size 432x288 with 1 Axes>"
      ]
     },
     "metadata": {
      "needs_background": "light"
     },
     "output_type": "display_data"
    }
   ],
   "source": [
    "#Xbox 1 sales vs tested patients\n",
    "x_values = merged[\"Spec Tested\"]\n",
    "y_values = merged[\"Xbox 1\"]\n",
    "(slope, intercept, rvalue, pvalue, stderr) = linregress(x_values, y_values)\n",
    "regress_values = x_values * slope + intercept\n",
    "line_eq = \"y = \" + str(round(slope,2)) + \"x + \" + str(round(intercept,2))\n",
    "plt.plot(x_values,regress_values,\"r-\")\n",
    "plt.annotate(line_eq,(0.05,30),fontsize=14,color=\"black\")\n",
    "\n",
    "#Plot Confirmed Cases against Sales (Millions) in a Scatterplot \n",
    "scatter = plt.scatter(x_values, y_values)\n",
    "plt.xlabel(\"Weekly Covid Cases\")\n",
    "plt.ylabel(\"PS4 Sales\")\n",
    "scatter\n",
    "plt.savefig(\"scatterxb.png\")"
   ]
  },
  {
   "cell_type": "code",
   "execution_count": null,
   "metadata": {},
   "outputs": [],
   "source": []
  }
 ],
 "metadata": {
  "kernelspec": {
   "display_name": "Python 3",
   "language": "python",
   "name": "python3"
  },
  "language_info": {
   "codemirror_mode": {
    "name": "ipython",
    "version": 3
   },
   "file_extension": ".py",
   "mimetype": "text/x-python",
   "name": "python",
   "nbconvert_exporter": "python",
   "pygments_lexer": "ipython3",
   "version": "3.8.3"
  }
 },
 "nbformat": 4,
 "nbformat_minor": 4
}
